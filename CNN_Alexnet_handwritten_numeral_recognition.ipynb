{
 "cells": [
  {
   "cell_type": "code",
   "execution_count": 1,
   "metadata": {
    "scrolled": false
   },
   "outputs": [
    {
     "name": "stderr",
     "output_type": "stream",
     "text": [
      "C:\\ProgramData\\Anaconda3\\lib\\site-packages\\h5py\\__init__.py:34: FutureWarning: Conversion of the second argument of issubdtype from `float` to `np.floating` is deprecated. In future, it will be treated as `np.float64 == np.dtype(float).type`.\n",
      "  from ._conv import register_converters as _register_converters\n"
     ]
    }
   ],
   "source": [
    "from tensorflow.examples.tutorials.mnist import input_data\n",
    "\n",
    "mnist = input_data.read_data_sets(\".\", one_hot=True, reshape=False)"
   ]
  },
  {
   "cell_type": "code",
   "execution_count": 3,
   "metadata": {
    "collapsed": true
   },
   "outputs": [],
   "source": [
    "import tensorflow as tf\n",
    "\n",
    "#参数\n",
    "learning_rate = 0.01\n",
    "epochs = 1\n",
    "batch_size = 5000\n",
    "\n",
    "#用来验证和计算准确率的样本数\n",
    "test_valid_size = 256\n",
    "\n",
    "#Network Parameters\n",
    "n_classes = 10\n",
    "dropout = 0.75\n",
    "weights = {\n",
    "    'wc1': tf.Variable(tf.random_normal([5,5,1,32])),\n",
    "    'wc2': tf.Variable(tf.random_normal([5,5,32,64])),\n",
    "    'wd1': tf.Variable(tf.random_normal([7*7*64,1024])),\n",
    "    'out': tf.Variable(tf.random_normal([1024, n_classes]))\n",
    "}\n",
    "\n",
    "biases = {\n",
    "    'bc1': tf.Variable(tf.random_normal([32])),\n",
    "    'bc2': tf.Variable(tf.random_normal([64])),\n",
    "    'bd1': tf.Variable(tf.random_normal([1024])),\n",
    "    'out': tf.Variable(tf.random_normal([n_classes]))\n",
    "}\n",
    "\n",
    "def conv2d(x, W, b, strides=1):\n",
    "    x=tf.nn.conv2d(x, W, strides=[1,strides, strides, 1], padding='SAME')\n",
    "    x = tf.nn.bias_add(x,b)\n",
    "    return tf.nn.relu(x)\n",
    "\n",
    "def maxpool2d(x, k=2):\n",
    "    return tf.nn.max_pool(x, ksize=[1,k,k,1], strides=[1,k,k,1], padding='SAME')\n",
    "\n",
    "def conv_net(x, weights, biases, dropout):\n",
    "    # 第一层卷积1 - 28*28*1 to 14*14*32\n",
    "    conv1= conv2d(x, weights['wc1'], biases['bc1'])\n",
    "    conv1= maxpool2d(conv1, k=2)\n",
    "    \n",
    "    #卷积层2 -14 * 14*32 to 7*7*64\n",
    "    conv2=conv2d(conv1, weights['wc2'], biases['bc2'])\n",
    "    conv2 = maxpool2d(conv2, k=2)\n",
    "    \n",
    "    #全连接层 - 7*7*64 to 1024\n",
    "    fc1 = tf.reshape(conv2, [-1, weights['wd1'].get_shape().as_list()[0]])\n",
    "    fc1 = tf.add(tf.matmul(fc1, weights['wd1']), biases['bd1'])\n",
    "    fc1 = tf.nn.relu(fc1)\n",
    "    fc1 = tf.nn.dropout(fc1, dropout)\n",
    "    \n",
    "    #输出分类 - 1024 to 10\n",
    "    out = tf.add(tf.matmul(fc1, weights['out']), biases['out'])\n",
    "    return out\n",
    "\n",
    "#tf Graph 输入\n",
    "x = tf.placeholder(tf.float32, [None, 28, 28, 1])\n",
    "y = tf.placeholder(tf.float32, [None, n_classes])\n",
    "keep_prob = tf.placeholder(tf.float32)\n",
    "\n",
    "#模型logits\n",
    "logits = conv_net(x, weights, biases, keep_prob)\n",
    "\n",
    "#损失和优化\n",
    "cost = tf.reduce_mean(tf.nn.softmax_cross_entropy_with_logits_v2(logits=logits, labels=y))\n",
    "optimizer = tf.train.AdadeltaOptimizer(learning_rate=learning_rate).minimize(cost)\n",
    "correct_pred = tf.equal(tf.argmax(logits, 1), tf.argmax(y,1))\n",
    "accuracy = tf.reduce_mean(tf.cast(correct_pred, tf.float32))\n",
    "\n",
    "#初始化变量\n",
    "init = tf.global_variables_initializer()\n",
    "\n",
    "with tf.Session() as sess:\n",
    "    sess.run(init)\n",
    "    for epoch in range(epochs):\n",
    "        print(\"example len:\",mnist.train.num_examples)\n",
    "        for batch in range(mnist.train.num_examples//batch_size):\n",
    "            batch_x, batch_y = mnist.train.next_batch(batch_size)\n",
    "            sess.run(optimizer, feed_dict={\n",
    "                x:batch_x,\n",
    "                y:batch_y,\n",
    "                keep_prob: dropout\n",
    "            })\n",
    "            #计算batch loss 和准确度accuracy\n",
    "            loss = sess.run(cost, feed_dict={\n",
    "                x:batch_x,\n",
    "                y:batch_y,\n",
    "                keep_prob:1.\n",
    "            })\n",
    "            valid_acc = sess.run(accuracy, feed_dict={\n",
    "                x:mnist.validation.images[:test_valid_size],\n",
    "                y:mnist.validation.labels[:test_valid_size],\n",
    "                keep_prob:1.\n",
    "            })\n",
    "            \n",
    "            print('Epoch {:>2}, Batch{:>3}-'\n",
    "                 'Loss:{:>10.4f} Validation Accuracy: {:.6f}'.format(epoch+1, batch+1, loss, valid_acc))\n",
    "            \n",
    "    #测试精准度\n",
    "    test_acc = sess.run(accuracy, feed_dict={\n",
    "        x:mnist.test.images[:test_valid_size],\n",
    "        y:mnist.test.labels[:test_valid_size],\n",
    "        keep_prob:1.\n",
    "    })\n",
    "    print('Testing Accuracy: {}'.format(test_acc))"
   ]
  },
  {
   "cell_type": "code",
   "execution_count": null,
   "metadata": {
    "collapsed": true
   },
   "outputs": [],
   "source": []
  }
 ],
 "metadata": {
  "kernelspec": {
   "display_name": "tensorflow",
   "language": "python",
   "name": "tensorflow"
  },
  "language_info": {
   "codemirror_mode": {
    "name": "ipython",
    "version": 3
   },
   "file_extension": ".py",
   "mimetype": "text/x-python",
   "name": "python",
   "nbconvert_exporter": "python",
   "pygments_lexer": "ipython3",
   "version": "3.6.1"
  }
 },
 "nbformat": 4,
 "nbformat_minor": 2
}
